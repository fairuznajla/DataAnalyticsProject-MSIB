{
  "cells": [
    {
      "cell_type": "code",
      "execution_count": null,
      "id": "06663df8-a46a-4fe1-a15d-7be2b5f5c11c",
      "metadata": {
        "id": "06663df8-a46a-4fe1-a15d-7be2b5f5c11c"
      },
      "outputs": [],
      "source": [
        "import numpy as np"
      ]
    },
    {
      "cell_type": "code",
      "execution_count": null,
      "id": "11bbdf40-692d-43d9-bed7-071b6fc61584",
      "metadata": {
        "id": "11bbdf40-692d-43d9-bed7-071b6fc61584",
        "outputId": "b994473d-c9d2-4867-be0f-4a29c371a9ca"
      },
      "outputs": [
        {
          "data": {
            "text/plain": [
              "array([[79, 68, 75, 63, 46, 85, 47,  6, 85, 62, 73, 76, 59, 49, 73],\n",
              "       [40, 43, 49, 63, 58, 49, 74, 22, 84, 46, 83, 26, 28, 95, 70]])"
            ]
          },
          "execution_count": 9,
          "metadata": {},
          "output_type": "execute_result"
        }
      ],
      "source": [
        "# Nomor 1\n",
        "random_array = np.random.randint(0,100,(2,15))\n",
        "random_array"
      ]
    },
    {
      "cell_type": "code",
      "execution_count": null,
      "id": "e5126339-d913-4fa4-a7af-0382af378eb5",
      "metadata": {
        "id": "e5126339-d913-4fa4-a7af-0382af378eb5",
        "outputId": "8deeae44-04ef-4b52-db5a-4e9497ae969e"
      },
      "outputs": [
        {
          "data": {
            "text/plain": [
              "41835"
            ]
          },
          "execution_count": 10,
          "metadata": {},
          "output_type": "execute_result"
        }
      ],
      "source": [
        "# Nomor 2\n",
        "np.dot(random_array[0][2:], random_array[1][:-2])"
      ]
    },
    {
      "cell_type": "code",
      "execution_count": null,
      "id": "8566878e-e423-4ca4-80ea-280b2e02f9c4",
      "metadata": {
        "id": "8566878e-e423-4ca4-80ea-280b2e02f9c4",
        "outputId": "6f01f5bf-6089-4ce6-bfa5-be977eecb444"
      },
      "outputs": [
        {
          "name": "stdout",
          "output_type": "stream",
          "text": [
            "61.5\n"
          ]
        }
      ],
      "source": [
        "# Nomor 3\n",
        "nilai_mtk = np.array(random_array[0])\n",
        "nilai_biologi = np.array(random_array[1])\n",
        "\n",
        "def cek_kelulusan(nilai_mtk, nilai_biologi, std_lulus):\n",
        "    tidak_lulus = np.logical_or(nilai_mtk < std_lulus,\n",
        "                                nilai_biologi < std_lulus)\n",
        "    nilai_mtk_tidak_lulus = nilai_mtk[tidak_lulus==True]\n",
        "    print(np.mean(nilai_mtk_tidak_lulus))\n",
        "\n",
        "cek_kelulusan(nilai_mtk, nilai_biologi, 79)"
      ]
    },
    {
      "cell_type": "code",
      "execution_count": null,
      "id": "099b11b2-431c-4181-9c4c-32dd2d8c7081",
      "metadata": {
        "id": "099b11b2-431c-4181-9c4c-32dd2d8c7081",
        "outputId": "c0a1ff75-bc5a-4e54-9461-dbe5b344270c"
      },
      "outputs": [
        {
          "name": "stdout",
          "output_type": "stream",
          "text": [
            "siswa yang tidak lulus pada ujian matematika = 12\n",
            "siswa yang tidak lulus pada ujian biologi = 12\n"
          ]
        }
      ],
      "source": [
        "# Nomor 4\n",
        "nilai_mtk = np.array(random_array[0])\n",
        "nilai_biologi = np.array(random_array[1])\n",
        "\n",
        "def cek_kelulusan(nilai_mtk, nilai_biologi, std_lulus):\n",
        "    tidak_lulus_mtk = nilai_mtk < std_lulus\n",
        "    tidak_lulus_biologi = nilai_biologi < std_lulus\n",
        "    print('siswa yang tidak lulus pada ujian matematika =', np.count_nonzero(tidak_lulus_mtk))\n",
        "    print('siswa yang tidak lulus pada ujian biologi =', np.count_nonzero(tidak_lulus_biologi))\n",
        "\n",
        "cek_kelulusan(nilai_mtk, nilai_biologi, 79)"
      ]
    },
    {
      "cell_type": "code",
      "execution_count": null,
      "id": "cf404cad-8a93-473e-a683-8eb8e1b012b2",
      "metadata": {
        "id": "cf404cad-8a93-473e-a683-8eb8e1b012b2",
        "outputId": "0528c258-16b8-4ea2-ee15-825330b2afd9"
      },
      "outputs": [
        {
          "name": "stdout",
          "output_type": "stream",
          "text": [
            "jumlah siswa yang tidak lulus pada ujian matematika = 12\n",
            "jumlah siswa yang tidak lulus pada ujian biologi = 12\n"
          ]
        }
      ],
      "source": [
        "# Nomor 4\n",
        "nilai_mtk = np.array(random_array[0])\n",
        "nilai_biologi = np.array(random_array[1])\n",
        "std_lulus = 79\n",
        "\n",
        "# Inisialisasi hitung untuk siswa yang tidak lolos matematika dan biologi\n",
        "tidak_lulus_mtk = 0\n",
        "tidak_lulus_biologi = 0\n",
        "\n",
        "for nilai in nilai_mtk:\n",
        "    if nilai < std_lulus:\n",
        "        tidak_lulus_mtk += 1\n",
        "\n",
        "for nilai in nilai_biologi:\n",
        "    if nilai < std_lulus:\n",
        "        tidak_lulus_biologi += 1\n",
        "\n",
        "print('jumlah siswa yang tidak lulus pada ujian matematika =', tidak_lulus_mtk)\n",
        "print('jumlah siswa yang tidak lulus pada ujian biologi =', tidak_lulus_biologi)"
      ]
    },
    {
      "cell_type": "code",
      "execution_count": null,
      "id": "9555a8c3-6b5f-4e3a-9a7c-cf9b63758ffe",
      "metadata": {
        "id": "9555a8c3-6b5f-4e3a-9a7c-cf9b63758ffe"
      },
      "outputs": [],
      "source": []
    }
  ],
  "metadata": {
    "kernelspec": {
      "display_name": "Python 3 (ipykernel)",
      "language": "python",
      "name": "python3"
    },
    "language_info": {
      "codemirror_mode": {
        "name": "ipython",
        "version": 3
      },
      "file_extension": ".py",
      "mimetype": "text/x-python",
      "name": "python",
      "nbconvert_exporter": "python",
      "pygments_lexer": "ipython3",
      "version": "3.11.5"
    },
    "colab": {
      "provenance": []
    }
  },
  "nbformat": 4,
  "nbformat_minor": 5
}